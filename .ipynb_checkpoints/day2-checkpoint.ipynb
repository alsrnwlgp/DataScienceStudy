{
 "cells": [
  {
   "cell_type": "code",
   "execution_count": 9,
   "metadata": {
    "collapsed": true
   },
   "outputs": [],
   "source": [
    "test_list = list()\n",
    "test_list.append(1)\n",
    "test_list.insert(0, 3)\n",
    "test_list.append(4)"
   ]
  },
  {
   "cell_type": "code",
   "execution_count": 17,
   "metadata": {},
   "outputs": [
    {
     "name": "stdout",
     "output_type": "stream",
     "text": [
      "1\n",
      "1\n",
      "1\n"
     ]
    }
   ],
   "source": [
    "N = int(input())\n",
    "listN = list()\n",
    "for i in range(N):\n",
    "    listN.append(input())\n",
    "listN.sort()\n",
    "for i in range(N):\n",
    "    print(listN[i])"
   ]
  },
  {
   "cell_type": "code",
   "execution_count": 27,
   "metadata": {
    "collapsed": true
   },
   "outputs": [],
   "source": [
    "def merge(list1, list2):\n",
    "    result_list = list()\n",
    "    while len(list1) > 0 and len(list2) > 0:\n",
    "        if list1[0] < list2[0]:\n",
    "            result_list.append(list1[0])\n",
    "            list1.pop(0)\n",
    "        else:\n",
    "            result_list.append(list2[0])\n",
    "            list2.pop(0)\n",
    "    if len(list1) == 0:\n",
    "        result_list.extend(list2)\n",
    "    else:\n",
    "        result_list.extend(list1)\n",
    "    return result_list"
   ]
  },
  {
   "cell_type": "code",
   "execution_count": 28,
   "metadata": {
    "collapsed": true
   },
   "outputs": [],
   "source": [
    "def merge_sort(input_list):\n",
    "    n = len(input_list)\n",
    "    if n <= 1:\n",
    "        return input_list\n",
    "    list1 = merge_sort(input_list[:(n//2)])\n",
    "    list2 = merge_sort(input_list[(n//2):])\n",
    "    return merge(list1, list2)"
   ]
  },
  {
   "cell_type": "code",
   "execution_count": 31,
   "metadata": {},
   "outputs": [
    {
     "name": "stdout",
     "output_type": "stream",
     "text": [
      "5\n",
      "99\n",
      "3\n",
      "6\n",
      "5\n",
      "8\n",
      "3\n",
      "5\n",
      "6\n",
      "8\n",
      "99\n"
     ]
    }
   ],
   "source": [
    "N = int(input())\n",
    "listN = list()\n",
    "for i in range(N):\n",
    "    listN.append(int(input()))\n",
    "listN = merge_sort(listN)\n",
    "for i in range(N):\n",
    "    print(listN[i])"
   ]
  },
  {
   "cell_type": "code",
   "execution_count": null,
   "metadata": {
    "collapsed": true
   },
   "outputs": [],
   "source": [
    "dictionary = {\n",
    "    \"name\" : [\"mingu\", \"minsong\"]\n",
    "    \"sex\" : [\"man,d\"]\n",
    "}"
   ]
  }
 ],
 "metadata": {
  "kernelspec": {
   "display_name": "Python 3",
   "language": "python",
   "name": "python3"
  },
  "language_info": {
   "codemirror_mode": {
    "name": "ipython",
    "version": 3
   },
   "file_extension": ".py",
   "mimetype": "text/x-python",
   "name": "python",
   "nbconvert_exporter": "python",
   "pygments_lexer": "ipython3",
   "version": "3.6.2"
  }
 },
 "nbformat": 4,
 "nbformat_minor": 2
}
