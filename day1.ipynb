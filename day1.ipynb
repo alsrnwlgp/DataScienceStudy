{
 "cells": [
  {
   "cell_type": "code",
   "execution_count": 12,
   "metadata": {},
   "outputs": [
    {
     "name": "stdout",
     "output_type": "stream",
     "text": [
      "첫번째 숫자 : 5\n",
      "두번째 숫자 : 5\n"
     ]
    }
   ],
   "source": [
    "x = input(\"첫번째 숫자 : \")\n",
    "y = input(\"두번째 숫자 : \")"
   ]
  },
  {
   "cell_type": "code",
   "execution_count": 14,
   "metadata": {},
   "outputs": [
    {
     "name": "stdout",
     "output_type": "stream",
     "text": [
      "문자열합 : 55\n",
      "숫자합 : 10\n"
     ]
    }
   ],
   "source": [
    "int_x = int(x)\n",
    "int_y = int(y)\n",
    "print(\"문자열합 :\", x + y)\n",
    "print(\"숫자합 :\", int_x + int_y)"
   ]
  },
  {
   "cell_type": "code",
   "execution_count": 15,
   "metadata": {
    "collapsed": true
   },
   "outputs": [],
   "source": [
    "s = \"hello\""
   ]
  },
  {
   "cell_type": "code",
   "execution_count": 16,
   "metadata": {},
   "outputs": [
    {
     "data": {
      "text/plain": [
       "'HELLO'"
      ]
     },
     "execution_count": 16,
     "metadata": {},
     "output_type": "execute_result"
    }
   ],
   "source": [
    "s.upper()"
   ]
  },
  {
   "cell_type": "code",
   "execution_count": 17,
   "metadata": {},
   "outputs": [
    {
     "data": {
      "text/plain": [
       "['1', '2', '3', '4', '5', '6', '7', '8']"
      ]
     },
     "execution_count": 17,
     "metadata": {},
     "output_type": "execute_result"
    }
   ],
   "source": [
    "a = \"1,2,3,4,5,6,7,8\"\n",
    "a.split(\",\")"
   ]
  },
  {
   "cell_type": "code",
   "execution_count": 77,
   "metadata": {
    "collapsed": true
   },
   "outputs": [],
   "source": [
    "import random"
   ]
  },
  {
   "cell_type": "code",
   "execution_count": 79,
   "metadata": {},
   "outputs": [
    {
     "name": "stdout",
     "output_type": "stream",
     "text": [
      "[[3, 13, 14, 24, 28, 37], [3, 13, 14, 24, 28, 37], [3, 13, 14, 24, 28, 37], [3, 13, 14, 24, 28, 37], [3, 13, 14, 24, 28, 37]]\n"
     ]
    }
   ],
   "source": [
    "#첫번째 과제\n",
    "i = 0\n",
    "result_list = []\n",
    "while i <5:\n",
    "    while sum(arr) <100 or sum(arr) > 170:\n",
    "        arr = random.sample(range(1, 46), 6)\n",
    "    arr.sort()\n",
    "    result_list.append(arr)\n",
    "    i += 1\n",
    "print(result_list)"
   ]
  },
  {
   "cell_type": "code",
   "execution_count": null,
   "metadata": {
    "collapsed": true
   },
   "outputs": [],
   "source": []
  }
 ],
 "metadata": {
  "kernelspec": {
   "display_name": "Python 3",
   "language": "python",
   "name": "python3"
  },
  "language_info": {
   "codemirror_mode": {
    "name": "ipython",
    "version": 3
   },
   "file_extension": ".py",
   "mimetype": "text/x-python",
   "name": "python",
   "nbconvert_exporter": "python",
   "pygments_lexer": "ipython3",
   "version": "3.6.2"
  }
 },
 "nbformat": 4,
 "nbformat_minor": 2
}
