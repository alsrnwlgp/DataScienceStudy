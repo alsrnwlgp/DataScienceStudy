{
 "cells": [
  {
   "cell_type": "code",
   "execution_count": 3,
   "metadata": {},
   "outputs": [],
   "source": [
    "import numpy as np\n",
    "#점과 직선사이 거리\n",
    "def distance_of_point_from_line(point, w, b):\n",
    "    result = abs(w*point[0] - point[1] + b)/np.sqrt(w**2 + 1)\n",
    "    return result\n",
    "    \n",
    "def get_b_from_w(w, x_center, y_center):\n",
    "    return y_center - w * x_center\n",
    "    \n",
    "def my_regression_function(x_arr, y_arr):\n",
    "    x_center = sum(x_arr)/len(x_arr)\n",
    "    y_center = sum(y_arr)/len(y_arr)\n",
    "    w = 0\n",
    "    b = get_b_from_w(w,x_center,y_center)\n",
    "    distance = (distance_of_point_from_line([x_center, y_center], w, b))**2\n",
    "    where = \"plus\"\n",
    "    tmp_w = w + 0.01\n",
    "    tmp_distance = 0\n",
    "    for i in range(len(x_arr)):\n",
    "        tmp_distance += (distance_of_point_from_line([x_center, y_center], tmp_w, b))**2\n",
    "    if tmp_distance >= distance:\n",
    "        where = \"minus\"\n",
    "    #어떤 방향으로 갈지 정함\n",
    "\n",
    "    while True:\n",
    "        if where == \"plus\":\n",
    "            tmp_w = w + 0.01\n",
    "        else:\n",
    "            tmp_w = w - 0.01\n",
    "        tmp_distance = 0\n",
    "        for i in range(len(x_arr)):\n",
    "            tmp_distance += (distance_of_point_from_line([x_center, y_center], tmp_w, b))**2\n",
    "        if tmp_distance < distance:\n",
    "            continue\n",
    "        break\n",
    "    return w, b\n",
    "\n",
    "\n",
    "    "
   ]
  },
  {
   "cell_type": "code",
   "execution_count": null,
   "metadata": {
    "collapsed": true
   },
   "outputs": [],
   "source": []
  }
 ],
 "metadata": {
  "kernelspec": {
   "display_name": "Python 3",
   "language": "python",
   "name": "python3"
  },
  "language_info": {
   "codemirror_mode": {
    "name": "ipython",
    "version": 3
   },
   "file_extension": ".py",
   "mimetype": "text/x-python",
   "name": "python",
   "nbconvert_exporter": "python",
   "pygments_lexer": "ipython3",
   "version": "3.6.2"
  }
 },
 "nbformat": 4,
 "nbformat_minor": 2
}
