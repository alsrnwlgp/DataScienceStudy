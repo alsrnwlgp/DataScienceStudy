{
 "cells": [
  {
   "cell_type": "code",
   "execution_count": 3,
   "metadata": {},
   "outputs": [
    {
     "name": "stdout",
     "output_type": "stream",
     "text": [
      "3\n",
      "0 1 2\n"
     ]
    },
    {
     "data": {
      "text/plain": [
       "<map at 0x2639fdf2940>"
      ]
     },
     "execution_count": 3,
     "metadata": {},
     "output_type": "execute_result"
    }
   ],
   "source": [
    "N = input()\n",
    "int_list = list(map(int, input().split(' ')))\n",
    "int_list_result = []\n",
    "for i in range(N):\n",
    "    \n",
    "    "
   ]
  },
  {
   "cell_type": "code",
   "execution_count": 22,
   "metadata": {},
   "outputs": [
    {
     "name": "stdout",
     "output_type": "stream",
     "text": [
      "2\n",
      "6\n",
      "12\n",
      "3\n",
      "16\n"
     ]
    }
   ],
   "source": [
    "Dp = [1,1,1,2,2]\n",
    "def dp_triangle(M):\n",
    "    try:\n",
    "        return Dp[M-1]\n",
    "    except:\n",
    "        for i in range(len(Dp), M):\n",
    "            Dp.append(Dp[i-1] + Dp[i-5])\n",
    "        return Dp[M-1]\n",
    "    \n",
    "N = int(input())\n",
    "result_list = []\n",
    "for i in range(N):\n",
    "    result_list.append(dp_triangle(int(input())))\n",
    "\n",
    "for i in result_list:\n",
    "    print(i)"
   ]
  },
  {
   "cell_type": "code",
   "execution_count": 31,
   "metadata": {},
   "outputs": [
    {
     "name": "stdout",
     "output_type": "stream",
     "text": [
      "3\n",
      "26 40 83\n",
      "49 60 57\n",
      "13 89 99\n",
      "96\n"
     ]
    }
   ],
   "source": [
    "N = int(input())\n",
    "Dp = []\n",
    "for i in range(N):\n",
    "    curRGB = list(map(int, input().split(' ')))\n",
    "    if i > 0:\n",
    "        R = min(Dp[i-1][1],Dp[i-1][2]) + curRGB[0]\n",
    "        G = min(Dp[i-1][0],Dp[i-1][2]) + curRGB[1]\n",
    "        B = min(Dp[i-1][0],Dp[i-1][1]) + curRGB[2]\n",
    "    else:\n",
    "        R,G,B = curRGB\n",
    "    Dp.append([R, G, B])\n",
    "print(min(Dp[N-1]))"
   ]
  },
  {
   "cell_type": "code",
   "execution_count": null,
   "metadata": {},
   "outputs": [],
   "source": [
    "#1932\n",
    "Dp = []\n",
    "N = int(input())\n",
    "Dp.append(int(input()))\n",
    "for i in range(1,N):\n",
    "    tmp_arr = list(map(int,input().split(' ')))\n",
    "    tmp_arr[0] += Dp[0]\n",
    "    for j in range(1 ,i):\n",
    "        tmp_arr[j] += max(Dp[j-1], Dp[j])\n",
    "    tmp_arr[i] += Dp[i-1]\n",
    "    Dp = tmp_arr\n",
    "print(max(Dp))\n",
    "    "
   ]
  },
  {
   "cell_type": "code",
   "execution_count": null,
   "metadata": {
    "collapsed": true
   },
   "outputs": [],
   "source": [
    "input_list = input()\n",
    "plus_list = []\n",
    "minus_list = []\n",
    "for i in range(len(input_list)):\n",
    "    if input_list[i] == '-':\n",
    "        plus_list = input_list[:i]\n",
    "        minus_list = input_list[i+1:]\n",
    "        print(plus_list, minus_list)\n",
    "        break\n",
    "        #-이후 나오는 string\n",
    "minus = sum(list(map(int,minus_list.replace('+','-').split('-'))))\n",
    "plus = sum(list(map(int, plus_list.split('+'))))\n",
    "result = plus - minus\n",
    "print(result)"
   ]
  }
 ],
 "metadata": {
  "kernelspec": {
   "display_name": "Python 3",
   "language": "python",
   "name": "python3"
  },
  "language_info": {
   "codemirror_mode": {
    "name": "ipython",
    "version": 3
   },
   "file_extension": ".py",
   "mimetype": "text/x-python",
   "name": "python",
   "nbconvert_exporter": "python",
   "pygments_lexer": "ipython3",
   "version": "3.6.2"
  }
 },
 "nbformat": 4,
 "nbformat_minor": 2
}
