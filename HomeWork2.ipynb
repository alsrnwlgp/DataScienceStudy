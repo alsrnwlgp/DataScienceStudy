{
 "cells": [
  {
   "cell_type": "code",
   "execution_count": 33,
   "metadata": {},
   "outputs": [
    {
     "name": "stdout",
     "output_type": "stream",
     "text": [
      "숫자 세자리를 입력하세요.3 5 6\n",
      "0 strike 0 ball\n",
      "숫자 세자리를 입력하세요.1 2 4\n",
      "0 strike 2 ball\n",
      "숫자 세자리를 입력하세요.2 1 4\n",
      "0 strike 2 ball\n",
      "숫자 세자리를 입력하세요.2 4 1\n",
      "1 strike 1 ball\n",
      "숫자 세자리를 입력하세요.1 4 2\n",
      "0 strike 2 ball\n",
      "숫자 세자리를 입력하세요.4 2 1\n",
      "2 strike 0 ball\n",
      "숫자 세자리를 입력하세요.3 2 1\n",
      "1 strike 0 ball\n",
      "숫자 세자리를 입력하세요.4 3 1\n",
      "2 strike 0 ball\n",
      "숫자 세자리를 입력하세요.4 5 1\n",
      "2 strike 0 ball\n",
      "숫자 세자리를 입력하세요.4 6 1\n",
      "2 strike 0 ball\n",
      "숫자 세자리를 입력하세요.4 7 1\n",
      "2 strike 0 ball\n",
      "숫자 세자리를 입력하세요.4 8 1\n",
      "3 strike 0 ball\n"
     ]
    }
   ],
   "source": [
    "from random import sample\n",
    "\n",
    "def check_list(goal_list, test_list):\n",
    "    strike = 0\n",
    "    ball = 0\n",
    "    for i in range(3):\n",
    "        if test_list[i] in goal_list:\n",
    "            if goal_list[i] == test_list[i]:\n",
    "                strike += 1\n",
    "            else:\n",
    "                ball += 1\n",
    "    print(\"{} strike {} ball\".format(strike, ball))\n",
    "\n",
    "goal_list = sample(range(1, 10), 3)\n",
    "while test_list != goal_list:\n",
    "    test_list = list(map(int,input(\"숫자 세자리를 입력하세요.\").split(\" \")))\n",
    "    check_list(goal_list, test_list)"
   ]
  },
  {
   "cell_type": "code",
   "execution_count": 5,
   "metadata": {},
   "outputs": [
    {
     "name": "stdout",
     "output_type": "stream",
     "text": [
      "10+20\n",
      "30\n"
     ]
    }
   ],
   "source": [
    "input_list = input()\n",
    "i = input_list.find('-')\n",
    "if 0 < i < len(input_list):\n",
    "    plus_list = input_list[:i]\n",
    "    minus_list = input_list[i+1:]\n",
    "    #-이후 나오는 string\n",
    "    minus = sum(list(map(int,minus_list.replace('+','-').split('-'))))\n",
    "else:\n",
    "    plus_list = input_list\n",
    "    minus = 0\n",
    "plus = sum(list(map(int, plus_list.split('+'))))\n",
    "result = plus - minus\n",
    "print(result)"
   ]
  }
 ],
 "metadata": {
  "kernelspec": {
   "display_name": "Python 3",
   "language": "python",
   "name": "python3"
  },
  "language_info": {
   "codemirror_mode": {
    "name": "ipython",
    "version": 3
   },
   "file_extension": ".py",
   "mimetype": "text/x-python",
   "name": "python",
   "nbconvert_exporter": "python",
   "pygments_lexer": "ipython3",
   "version": "3.6.2"
  }
 },
 "nbformat": 4,
 "nbformat_minor": 2
}
